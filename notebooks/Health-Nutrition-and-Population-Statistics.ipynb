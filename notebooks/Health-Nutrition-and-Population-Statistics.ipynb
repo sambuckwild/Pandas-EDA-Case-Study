{
 "cells": [
  {
   "cell_type": "markdown",
   "metadata": {},
   "source": [
    "# Health-Nutrition-and-Population-Statistics\n",
    "## Load libraries\n",
    "## Load Data\n",
    "## Check Features\n",
    "DataFrame transformation may be needed.\n",
    "### Check feature distributions\n",
    "### Check missing values in features\n",
    "### Plot single feature (histogram, boxplot, etc)\n",
    "### Plot features pairwise correlation (scatter, etc)"
   ]
  }
 ],
 "metadata": {
  "kernelspec": {
   "display_name": "Python 3",
   "language": "python",
   "name": "python3"
  },
  "language_info": {
   "codemirror_mode": {
    "name": "ipython",
    "version": 3
   },
   "file_extension": ".py",
   "mimetype": "text/x-python",
   "name": "python",
   "nbconvert_exporter": "python",
   "pygments_lexer": "ipython3",
   "version": "3.7.6"
  }
 },
 "nbformat": 4,
 "nbformat_minor": 4
}
